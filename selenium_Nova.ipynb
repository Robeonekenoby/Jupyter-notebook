{
 "cells": [
  {
   "cell_type": "code",
   "execution_count": 1,
   "metadata": {
    "scrolled": true
   },
   "outputs": [],
   "source": [
    "import selenium\n",
    "import time, datetime\n",
    "from selenium import webdriver\n",
    "from datetime import datetime"
   ]
  },
  {
   "cell_type": "code",
   "execution_count": 2,
   "metadata": {},
   "outputs": [],
   "source": [
    "PATH = \"C:\\webdrivers\\chromedriver.exe\"\n",
    "driver = webdriver.Chrome(PATH)\n",
    "\n",
    "driver.get(\"https://nova.ilsole24ore.com/source/data-journalism-infodata/\")\n"
   ]
  },
  {
   "cell_type": "code",
   "execution_count": 12,
   "metadata": {},
   "outputs": [],
   "source": [
    "articoli = driver.find_elements_by_class_name(\"lead-normal\")"
   ]
  },
  {
   "cell_type": "code",
   "execution_count": 13,
   "metadata": {
    "scrolled": true
   },
   "outputs": [
    {
     "data": {
      "text/plain": [
       "17"
      ]
     },
     "execution_count": 13,
     "metadata": {},
     "output_type": "execute_result"
    }
   ],
   "source": [
    "len(articoli)"
   ]
  },
  {
   "cell_type": "code",
   "execution_count": 11,
   "metadata": {},
   "outputs": [],
   "source": [
    "altri_articoli = driver.find_element_by_id(\"load-link\")\n",
    "for i in range(2):    # 2 per prova ma metterlo su 1098 per far uscire circa 5491 articoli\n",
    "    time.sleep(5)\n",
    "    altri_articoli.click()"
   ]
  },
  {
   "cell_type": "code",
   "execution_count": 14,
   "metadata": {},
   "outputs": [
    {
     "name": "stdout",
     "output_type": "stream",
     "text": [
      "\n",
      "\n",
      " Link = https://nova.ilsole24ore.com/infodata/tutta-la-ricchezza-del-mondo-pre-covid-19-in-una-infografica/ \n",
      " Titolo = Tutta la ricchezza del mondo (pre-Covid-19) in una infografica \n",
      " Categoria = CREATIVITÀ \n",
      " Data_pubblicazione = 16/09/2020 \n",
      " Timestamp dello scraping = 09/17/2020, 11:12:39 \n",
      "\n",
      "\n",
      "\n",
      "\n",
      " Link = https://nova.ilsole24ore.com/infodata/didattica-a-distanza-come-lhanno-vissuta-i-ragazzi-il-sondaggio-almalaurea/ \n",
      " Titolo = Didattica a distanza: come l'hanno vissuta i ragazzi. Il sondaggio Almalaurea \n",
      " Categoria = CREATIVITÀ \n",
      " Data_pubblicazione = 16/09/2020 \n",
      " Timestamp dello scraping = 09/17/2020, 11:12:39 \n",
      "\n",
      "\n",
      "\n",
      "\n",
      " Link = https://nova.ilsole24ore.com/infodata/fuga-dalla-citta-quanto-spazio-verde-ce-nelle-grandi-metropoli-europee-poco-ecco-il-green-city-index/ \n",
      " Titolo = Fuga dalla città. Quanto spazio verde c'è nelle grandi metropoli europee? Poco, ecco il Green City index \n",
      " Categoria = CREATIVITÀ \n",
      " Data_pubblicazione = 15/09/2020 \n",
      " Timestamp dello scraping = 09/17/2020, 11:12:39 \n",
      "\n",
      "\n",
      "\n",
      "\n",
      " Link = https://nova.ilsole24ore.com/infodata/a-rischio-estinzione-un-milione-di-specie-animali-come-scompare-la-biodiversita-pixel-dopo-pixel/ \n",
      " Titolo = A rischio estinzione un milione di specie animali. Come scompare la biodiversità pixel dopo pixel \n",
      " Categoria = CREATIVITÀ \n",
      " Data_pubblicazione = 15/09/2020 \n",
      " Timestamp dello scraping = 09/17/2020, 11:12:39 \n",
      "\n",
      "\n",
      "\n",
      "\n",
      " Link = https://nova.ilsole24ore.com/infodata/elezioni-usa-il-poker-gli-incendi-i-libri-e-il-vantaggio-di-joe-biden/ \n",
      " Titolo = Elezioni Usa: il poker, gli incendi, i libri e il vantaggio di Joe Biden \n",
      " Categoria = CREATIVITÀ \n",
      " Data_pubblicazione = 14/09/2020 \n",
      " Timestamp dello scraping = 09/17/2020, 11:12:40 \n",
      "\n",
      "\n",
      "\n",
      "\n",
      " Link = https://nova.ilsole24ore.com/infodata/la-matematica-dietro-le-mascherine-pensiero-critico-della-societa-data-driven/ \n",
      " Titolo = La matematica dietro le mascherine. Pensiero critico della società data-driven \n",
      " Categoria = CREATIVITÀ \n",
      " Data_pubblicazione = 14/09/2020 \n",
      " Timestamp dello scraping = 09/17/2020, 11:12:40 \n",
      "\n",
      "\n",
      "\n",
      "\n",
      " Link = https://nova.ilsole24ore.com/infodata/ansia-stress-e-paura-limpatto-della-pandemia-sui-genitori/ \n",
      " Titolo = Ansia, stress e paura: l'impatto della pandemia sui genitori \n",
      " Categoria = CREATIVITÀ \n",
      " Data_pubblicazione = 13/09/2020 \n",
      " Timestamp dello scraping = 09/17/2020, 11:12:40 \n",
      "\n",
      "\n",
      "\n",
      "\n",
      " Link = https://nova.ilsole24ore.com/infodata/quanto-costano-gli-alcolici-in-italia-e-nel-resto-deuropa/ \n",
      " Titolo = Quanto costano gli alcolici in Italia? E nel resto d'Europa? \n",
      " Categoria = CREATIVITÀ \n",
      " Data_pubblicazione = 13/09/2020 \n",
      " Timestamp dello scraping = 09/17/2020, 11:12:40 \n",
      "\n",
      "\n",
      "\n",
      "\n",
      " Link = https://nova.ilsole24ore.com/infodata/scuola-tre-numeri-per-raccontare-finalmente-il-ritorno-sui-banchi/ \n",
      " Titolo = Scuola, tre numeri per raccontare (finalmente) il ritorno sui banchi \n",
      " Categoria = CREATIVITÀ \n",
      " Data_pubblicazione = 13/09/2020 \n",
      " Timestamp dello scraping = 09/17/2020, 11:12:40 \n",
      "\n",
      "\n",
      "\n",
      "\n",
      " Link = https://nova.ilsole24ore.com/infodata/quanto-ne-sai-sui-referendum-il-quiz-per-nerd-sulla-costituzione-3/ \n",
      " Titolo = Quanto ne sai sui referendum? Il quiz per \"nerd\" sulla Costituzione \n",
      " Categoria = CREATIVITÀ \n",
      " Data_pubblicazione = 13/09/2020 \n",
      " Timestamp dello scraping = 09/17/2020, 11:12:40 \n",
      "\n",
      "\n",
      "\n",
      "\n",
      " Link = https://nova.ilsole24ore.com/infodata/tre-numeri-per-raccontare-finalmente-il-ritorno-a-scuola/ \n",
      " Titolo = Tre numeri per raccontare (finalmente) il ritorno a scuola \n",
      " Categoria = CREATIVITÀ \n",
      " Data_pubblicazione = 12/09/2020 \n",
      " Timestamp dello scraping = 09/17/2020, 11:12:41 \n",
      "\n",
      "\n",
      "\n",
      "\n",
      " Link = https://nova.ilsole24ore.com/infodata/a-proposito-di-standard-chi-guida-a-sinistra-scopri-le-nazioni-che-vanno-al-contrario/ \n",
      " Titolo = A proposito di standard: chi guida a sinistra? Scopri le nazioni che vanno al contrario \n",
      " Categoria = CREATIVITÀ \n",
      " Data_pubblicazione = 12/09/2020 \n",
      " Timestamp dello scraping = 09/17/2020, 11:12:41 \n",
      "\n",
      "\n",
      "\n",
      "\n",
      " Link = https://nova.ilsole24ore.com/infodata/tre-numeri-per-spiegare-il-referendum-costituzionale-del-20-21-settembre/ \n",
      " Titolo = Tre numeri per spiegare il referendum costituzionale del 20-21 settembre \n",
      " Categoria = CREATIVITÀ \n",
      " Data_pubblicazione = 12/09/2020 \n",
      " Timestamp dello scraping = 09/17/2020, 11:12:41 \n",
      "\n",
      "\n",
      "\n",
      "\n",
      " Link = https://nova.ilsole24ore.com/infodata/morte-per-omicidio-la-mappa-europea-con-le-regioni-piu-pericolose/ \n",
      " Titolo = Morte per omicidio, la mappa europea con le regioni più pericolose \n",
      " Categoria = CREATIVITÀ \n",
      " Data_pubblicazione = 12/09/2020 \n",
      " Timestamp dello scraping = 09/17/2020, 11:12:41 \n",
      "\n",
      "\n",
      "\n",
      "\n",
      " Link = https://nova.ilsole24ore.com/infodata/cinque-cose-che-ci-ha-insegnato-il-covid-19-sulle-disuguaglianze-in-numeri-e-grafici/ \n",
      " Titolo = Cinque cose che ci ha insegnato il Covid-19 sulle disuguaglianze. In numeri e grafici \n",
      " Categoria = CREATIVITÀ \n",
      " Data_pubblicazione = 11/09/2020 \n",
      " Timestamp dello scraping = 09/17/2020, 11:12:41 \n",
      "\n",
      "\n",
      "\n",
      "\n",
      " Link = https://nova.ilsole24ore.com/infodata/quanto-ne-sai-sui-referendum-il-quiz-per-nerd-sulla-costituzione-2/ \n",
      " Titolo = Quanto ne sai sui referendum? Il quiz per \"nerd\" sulla Costituzione \n",
      " Categoria = CREATIVITÀ \n",
      " Data_pubblicazione = 10/09/2020 \n",
      " Timestamp dello scraping = 09/17/2020, 11:12:41 \n",
      "\n",
      "\n",
      "\n",
      "\n",
      " Link = https://nova.ilsole24ore.com/infodata/limpatto-della-pandemia-sui-genitori-cosa-dice-il-linkedin-workforce-confidence-index/ \n",
      " Titolo = L'impatto della pandemia sui genitori. Cosa dice il LinkedIn Workforce Confidence Index? \n",
      " Categoria = CREATIVITÀ \n",
      " Data_pubblicazione = 10/09/2020 \n",
      " Timestamp dello scraping = 09/17/2020, 11:12:42 \n",
      "\n",
      "\n"
     ]
    }
   ],
   "source": [
    "for articolo in articoli:\n",    
    "    link = articolo.find_element_by_class_name('post-img').get_attribute('href')\n",
    "    titolo = articolo.find_element_by_xpath('.//*[@class=\"title\"]/h2/a').text # . (seleziona il nodo corrente) poichè senza si ripete il primo\n",
    "    categoria = articolo.find_element_by_xpath('.//*[@class=\"title\"]/h3/a').text\n",
    "    data_pubblicazione = articolo.find_element_by_tag_name(\"time\").text #oppure data_pubblicazione1 = articolo.find_element_by_xpath('.//*[@class=\"time-wrap\"]/time').text\n",
    "    \n",
    "    now = datetime.now() # data nel formato Americano e orario corrente  #timestamp = ('Timestamp: %s' % datetime.datetime.now())\n",
    "    timestamp = now.strftime(\"%m/%d/%Y, %H:%M:%S\")\n",
    "   \n",
    "   \n",
    "    \n",
    "     \n",
    "    \n",
    "    \n",
    "    print(\"\\n\\n\",\"Link = \"+link,\"\\n\",\"Titolo = \"+titolo,\"\\n\",\"Categoria = \"+categoria,\"\\n\",\"Data_pubblicazione = \"+data_pubblicazione,\"\\n\",\"Timestamp dello scraping = \"+timestamp,\"\\n\\n\")"
   ]
  },
  {
   "cell_type": "code",
   "execution_count": null,
   "metadata": {},
   "outputs": [],
   "source": []
  }
 ],
 "metadata": {
  "kernelspec": {
   "display_name": "Python 3",
   "language": "python",
   "name": "python3"
  },
  "language_info": {
   "codemirror_mode": {
    "name": "ipython",
    "version": 3
   },
   "file_extension": ".py",
   "mimetype": "text/x-python",
   "name": "python",
   "nbconvert_exporter": "python",
   "pygments_lexer": "ipython3",
   "version": "3.8.6rc1"
  }
 },
 "nbformat": 4,
 "nbformat_minor": 4
}
