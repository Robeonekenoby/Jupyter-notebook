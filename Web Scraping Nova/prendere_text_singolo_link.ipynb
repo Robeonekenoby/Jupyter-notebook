{
 "cells": [
  {
   "cell_type": "code",
   "execution_count": 59,
   "metadata": {},
   "outputs": [],
   "source": [
    "import selenium\n",
    "import pandas as pd\n",
    "import time\n",
    "from selenium import webdriver"
   ]
  },
  {
   "cell_type": "code",
   "execution_count": 11,
   "metadata": {},
   "outputs": [],
   "source": [
    "PATH = \"C:\\webdrivers\\chromedriver.exe\"\n",
    "driver = webdriver.Chrome(PATH)\n",
    "\n",
    "driver.get(\"https://nova.ilsole24ore.com/infodata/come-andata-la-maturita-questanno%e2%80%89i%e2%80%89voti-i-100-e-lode-e-le-disparita-nord-sud/\")\n"
   ]
  },
  {
   "cell_type": "code",
   "execution_count": 60,
   "metadata": {
    "scrolled": true
   },
   "outputs": [
    {
     "name": "stdout",
     "output_type": "stream",
     "text": [
      "[{'Titolo': 'Com’è andata la Maturità quest’anno?\\u2009I\\u2009voti, i 100 e lode e le disparità Nord-Sud', 'Testo': 'Gli esami di Stato del 2020 – ma questo vale in effetti per l’intero anno scolastico – sono stati sotto tantissimi aspetti fuori dal normale. Se a volte le scuole potevano venire chiuse al più per qualche tempo, spesso a causa di condizioni climatiche avverse come grosse nevicate, l’anno scolastico appena concluso si è interrotto a inizio marzo, tagliando praticamente a metà il corso normale delle cose, per quanto (talvolta e molto a macchia di leopardo) parzialmente compensato da lezioni a distanza.\\nNonostante tutto questo gli esami di maturità si sono tenuti comunque, e anche i risultati hanno fatto segnare numeri ben diversi dall’ordinario. L’articolo integrale su 24+ edizione premium del Sole 24 Ore.  L’articolo Com’è andata la Maturità quest’anno?\\u2009I\\u2009voti, i 100 e lode e le disparità Nord-Sud sembra essere il primo su Info Data. Copyright Il Sole 24 Ore - Tutti i diritti riservatiPrivacy Policy                      Noi e i nostri partner archiviamo e/o accediamo a informazioni sul vostro dispositivo, come gli ID univoci nei cookie al fine di trattare i dati personali. È possibile accettare e gestire le vostre scelte in qualsiasi momento cliccando su “Gestisci preferenze”, compreso il vostro diritto di opporvi nei casi in cui si fa affidamento a interessi legittimi. Le vostre scelte saranno segnalate ai nostri partner e non influenzeranno la navigazione.Informativa sui cookie '}]\n"
     ]
    }
   ],
   "source": [
    "PATH = \"C:\\webdrivers\\chromedriver.exe\"\n",
    "driver = webdriver.Chrome(PATH)\n",
    "\n",
    "driver.get(\"https://nova.ilsole24ore.com/infodata/come-andata-la-maturita-questanno%e2%80%89i%e2%80%89voti-i-100-e-lode-e-le-disparita-nord-sud/\")\n",
    "\n",
    "time.sleep(3)\n",
    "\n",
    "cookie = driver.find_element_by_id('onetrust-accept-btn-handler').click() #serve altrimenti prende il p del biscotto\n",
    "\n",
    "risultato = []\n",
    "\n",
    "\n",
    "titolo = driver.find_element_by_xpath('.//*[@id=\"mainbar\"]/article/header/h1').text\n",
    "elementip = driver.find_elements_by_tag_name(\"p\") #lista intera di tutti gli elementi p\n",
    "\n",
    "paragrafi = []\n",
    "    \n",
    "for elemento in elementip:\n",
    "    paragrafi.append(elemento.text)\n",
    "#print(paragrafi)\n",
    "\n",
    "\n",
    "testo = ' '.join(map(str, paragrafi))   # Use map() method for mapping str (for converting elements in list to string) with given iterator, the list.\n",
    "\n",
    "\n",
    "\n",
    "art_item = {\n",
    "        \n",
    "        'Titolo': titolo,\n",
    "        \n",
    "        'Testo': testo\n",
    "   }\n",
    "risultato.append(art_item)\n",
    "\n",
    "print(risultato)\n",
    "\n",
    "driver.quit()\n"
   ]
  },
  {
   "cell_type": "code",
   "execution_count": 57,
   "metadata": {},
   "outputs": [
    {
     "name": "stdout",
     "output_type": "stream",
     "text": [
      "                                              Titolo  \\\n",
      "0  Quanto è “grande” il recovery bond? Tutti i so...   \n",
      "\n",
      "                                               Testo  \n",
      "0  Le dimensioni sono importanti sopratutto in qu...  \n"
     ]
    }
   ],
   "source": [
    "df = pd.DataFrame(risultato)\n",
    "\n",
    "df.to_csv(r'C:\\Users\\robeo\\Desktop\\meledettotesti.csv', index = False, header = True)\n",
    "\n",
    "print(df)\n",
    "\n"
   ]
  },
  {
   "cell_type": "code",
   "execution_count": null,
   "metadata": {},
   "outputs": [],
   "source": []
  }
 ],
 "metadata": {
  "kernelspec": {
   "display_name": "Python 3",
   "language": "python",
   "name": "python3"
  },
  "language_info": {
   "codemirror_mode": {
    "name": "ipython",
    "version": 3
   },
   "file_extension": ".py",
   "mimetype": "text/x-python",
   "name": "python",
   "nbconvert_exporter": "python",
   "pygments_lexer": "ipython3",
   "version": "3.8.6rc1"
  }
 },
 "nbformat": 4,
 "nbformat_minor": 4
}
