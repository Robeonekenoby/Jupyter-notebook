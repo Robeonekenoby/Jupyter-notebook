{
 "cells": [
  {
   "cell_type": "code",
   "execution_count": 3,
   "metadata": {
    "scrolled": true
   },
   "outputs": [],
   "source": [
    "import selenium\n",
    "import time, datetime\n",
    "import pandas as pd\n",
    "from selenium import webdriver\n",
    "from datetime import datetime"
   ]
  },
  {
   "cell_type": "code",
   "execution_count": 11,
   "metadata": {},
   "outputs": [],
   "source": [
    "PATH = \"C:\\webdrivers\\chromedriver.exe\"\n",
    "driver = webdriver.Chrome(PATH)\n",
    "\n",
    "driver.get(\"https://nova.ilsole24ore.com/source/data-journalism-infodata/\")\n",
    "\n",
    "time.sleep(2)\n",
    "cookie = driver.find_element_by_xpath('//*[@id=\"onetrust-accept-btn-handler\"]').click()\n"
   ]
  },
  {
   "cell_type": "code",
   "execution_count": 6,
   "metadata": {},
   "outputs": [],
   "source": [
    "cookie = driver.find_element_by_xpath('//*[@id=\"onetrust-accept-btn-handler\"]').click()"
   ]
  },
  {
   "cell_type": "code",
   "execution_count": 15,
   "metadata": {},
   "outputs": [],
   "source": [
    "articoli = driver.find_elements_by_class_name(\"lead-normal\")"
   ]
  },
  {
   "cell_type": "code",
   "execution_count": 16,
   "metadata": {
    "scrolled": false
   },
   "outputs": [
    {
     "data": {
      "text/plain": [
       "2393"
      ]
     },
     "execution_count": 16,
     "metadata": {},
     "output_type": "execute_result"
    }
   ],
   "source": [
    "len(articoli)"
   ]
  },
  {
   "cell_type": "code",
   "execution_count": 14,
   "metadata": {},
   "outputs": [],
   "source": [
    "altri_articoli = driver.find_element_by_id(\"load-link\")\n",
    "for i in range(200):    # 2 per prova ma metterlo su 200 per far uscire circa 2393 articoli ma essendo un sito un po' così può bloccarsi talvolta\n",
    "    time.sleep(2)\n",
    "    altri_articoli.click()"
   ]
  },
  {
   "cell_type": "code",
   "execution_count": 17,
   "metadata": {
    "scrolled": true
   },
   "outputs": [
    {
     "name": "stdout",
     "output_type": "stream",
     "text": [
      "                                                   Link  \\\n",
      "0     https://nova.ilsole24ore.com/infodata/biodiver...   \n",
      "1     https://nova.ilsole24ore.com/infodata/la-sonif...   \n",
      "2     https://nova.ilsole24ore.com/infodata/quanto-v...   \n",
      "3     https://nova.ilsole24ore.com/infodata/a-propos...   \n",
      "4     https://nova.ilsole24ore.com/infodata/i-sette-...   \n",
      "...                                                 ...   \n",
      "2388  https://nova.ilsole24ore.com/infodata/immigraz...   \n",
      "2389  https://nova.ilsole24ore.com/infodata/incident...   \n",
      "2390  https://nova.ilsole24ore.com/infodata/maggiori...   \n",
      "2391  https://nova.ilsole24ore.com/infodata/i-super-...   \n",
      "2392  https://nova.ilsole24ore.com/infodata/scopri-l...   \n",
      "\n",
      "                                                 Titolo   Categoria  \\\n",
      "0     Biodiversità, il 40% delle piante è a rischio ...  CREATIVITÀ   \n",
      "1     La sonificazione della pandemia per ricordare ...  CREATIVITÀ   \n",
      "2     Quanto vale il \"brand\" Zaia dopo le elezioni r...  CREATIVITÀ   \n",
      "3     A proposito di dati: ipotesi per ri-aggiustare...  CREATIVITÀ   \n",
      "4     I sette miliardi e mezzo di dollari che potreb...  CREATIVITÀ   \n",
      "...                                                 ...         ...   \n",
      "2388  Immigrazione: scopri quanti sono e dove vivono...  CREATIVITÀ   \n",
      "2389  Incidenti, cancro, demenza: ecco come muoiono ...  CREATIVITÀ   \n",
      "2390  Maggiori disturbi mentali nelle società meno eque  CREATIVITÀ   \n",
      "2391  I super-ricchi in Italia sono cresciuti a quot...  CREATIVITÀ   \n",
      "2392  Scopri le regioni più selvagge e quelle dove l...  CREATIVITÀ   \n",
      "\n",
      "     Data_pubblicazione Timestamp dello scraping  \n",
      "0            08/10/2020     09/10/2020, 11:59:43  \n",
      "1            08/10/2020     09/10/2020, 11:59:43  \n",
      "2            08/10/2020     09/10/2020, 11:59:43  \n",
      "3            07/10/2020     09/10/2020, 11:59:44  \n",
      "4            07/10/2020     09/10/2020, 11:59:44  \n",
      "...                 ...                      ...  \n",
      "2388         20/06/2018     09/10/2020, 12:12:51  \n",
      "2389         20/06/2018     09/10/2020, 12:12:51  \n",
      "2390         19/06/2018     09/10/2020, 12:12:52  \n",
      "2391         19/06/2018     09/10/2020, 12:12:52  \n",
      "2392         19/06/2018     09/10/2020, 12:12:52  \n",
      "\n",
      "[2393 rows x 5 columns]\n"
     ]
    }
   ],
   "source": [
    "lista_articoli = []\n",
    "\n",
    "for articolo in articoli:\n",
    "    \n",
    "    link = articolo.find_element_by_xpath('.//*[@class=\"title\"]/h2/a').get_attribute('href')\n",
    "    titolo = articolo.find_element_by_xpath('.//*[@class=\"title\"]/h2/a').text # . (seleziona il nodo corrente) poichè senza si ripete il primo\n",
    "    categoria = articolo.find_element_by_xpath('.//*[@class=\"title\"]/h3/a').text\n",
    "     \n",
    "    data_pubblicazione = articolo.find_elements_by_tag_name(\"time\")\n",
    "    \n",
    "    data = []\n",
    "    \n",
    "    for elemento in data_pubblicazione:\n",
    "        data.append(elemento.text)\n",
    "    \n",
    "\n",
    "\n",
    "    datina = ' '.join(map(str, data)) # Use map() method for mapping str (for converting elements in list to string) with given iterator, the list.\n",
    "    \n",
    "    \n",
    "    \n",
    "    \n",
    "    now = datetime.now() # data nel formato Americano e orario corrente  #timestamp = ('Timestamp: %s' % datetime.datetime.now())\n",
    "    timestamp = now.strftime(\"%d/%m/%Y, %H:%M:%S\")\n",
    "    \n",
    "    art_item = {\n",
    "        'Link': link,\n",
    "        'Titolo': titolo,\n",
    "        'Categoria': categoria,\n",
    "        'Data_pubblicazione': datina, #data_pubblicazione singola non viene presa perchè prendiamo gli elementi time\n",
    "        'Timestamp dello scraping': timestamp\n",
    "    }\n",
    "    lista_articoli.append(art_item)\n",
    "    \n",
    "df = pd.DataFrame(lista_articoli)\n",
    "\n",
    "df.to_csv(r'C:\\Users\\robeo\\Desktop\\dataframeNova000.csv', index = False, header = True)\n",
    "\n",
    "print(df)\n",
    "   \n",
    "    \n",
    "     \n",
    "    \n",
    "    \n",
    "    #print(\"\\n\\n\",\"Link = \"+link,\"\\n\",\"Titolo = \"+titolo,\"\\n\",\"Categoria = \"+categoria,\"\\n\",\"Data_pubblicazione = \"+data_pubblicazione,\"\\n\",\"Timestamp dello scraping = \"+timestamp,\"\\n\\n\")"
   ]
  },
  {
   "cell_type": "code",
   "execution_count": null,
   "metadata": {},
   "outputs": [],
   "source": []
  }
 ],
 "metadata": {
  "kernelspec": {
   "display_name": "Python 3",
   "language": "python",
   "name": "python3"
  },
  "language_info": {
   "codemirror_mode": {
    "name": "ipython",
    "version": 3
   },
   "file_extension": ".py",
   "mimetype": "text/x-python",
   "name": "python",
   "nbconvert_exporter": "python",
   "pygments_lexer": "ipython3",
   "version": "3.8.6rc1"
  }
 },
 "nbformat": 4,
 "nbformat_minor": 4
}
